{
  "nbformat": 4,
  "nbformat_minor": 0,
  "metadata": {
    "colab": {
      "provenance": []
    },
    "kernelspec": {
      "name": "python3",
      "display_name": "Python 3"
    },
    "language_info": {
      "name": "python"
    }
  },
  "cells": [
    {
      "cell_type": "code",
      "execution_count": null,
      "metadata": {
        "colab": {
          "base_uri": "https://localhost:8080/"
        },
        "id": "L9UxLTQ1GWXz",
        "outputId": "e1fee78e-7c09-4fa9-81f7-3d8827bd2794"
      },
      "outputs": [
        {
          "output_type": "stream",
          "name": "stdout",
          "text": [
            "this is an example sentence for lower case conversion\n"
          ]
        }
      ],
      "source": [
        "def lower_case_convertion(text):\n",
        "\tlower_text = text.lower()\n",
        "\treturn lower_text\n",
        "\n",
        "ex_lowercase = \"This is an example Sentence for LOWER case conversion\"\n",
        "lowercase_result = lower_case_convertion(ex_lowercase)\n",
        "print(lowercase_result)\n"
      ]
    },
    {
      "cell_type": "markdown",
      "source": [
        "# HTML tags removal"
      ],
      "metadata": {
        "id": "on6cgLYktl_Y"
      }
    },
    {
      "cell_type": "code",
      "source": [
        "import re\n",
        "\n",
        "def remove_html_tags(text):\n",
        "\thtml_pattern = r'<.*?>'\n",
        "\twithout_html = re.sub(pattern=html_pattern, repl=' ', string=text)\n",
        "\treturn without_html\n",
        "\n",
        "ex_htmltags = \"\"\" <body>\n",
        "\t<div>\n",
        "\t\t<h1>Hi, this is an example text with Html tags. </h1>\n",
        "\t</div>\n",
        "</body> \"\"\"\n",
        "htmltags_result = remove_html_tags(ex_htmltags)\n",
        "print(f\"Result :- \\n {htmltags_result}\")\n"
      ],
      "metadata": {
        "colab": {
          "base_uri": "https://localhost:8080/"
        },
        "id": "jM5KxlNjGx5l",
        "outputId": "f82ef71b-a594-40da-e1b8-e951a13ef34f"
      },
      "execution_count": null,
      "outputs": [
        {
          "output_type": "stream",
          "name": "stdout",
          "text": [
            "Result :- \n",
            "   \n",
            "\t \n",
            "\t\t Hi, this is an example text with Html tags.  \n",
            "\t \n",
            "  \n"
          ]
        }
      ]
    },
    {
      "cell_type": "markdown",
      "source": [
        "# HTML tags removal BeautifulSoup"
      ],
      "metadata": {
        "id": "462dvXFstvYD"
      }
    },
    {
      "cell_type": "code",
      "source": [
        "from bs4 import BeautifulSoup\n",
        "\n",
        "def remove_html_tags(text):\n",
        "    # Parse the input HTML text with BeautifulSoup\n",
        "    soup = BeautifulSoup(text, \"html.parser\")\n",
        "    # Get only the text, excluding the HTML tags\n",
        "    return soup.get_text(separator=\" \")\n",
        "\n",
        "ex_htmltags = \"\"\" <body>\n",
        "    <div>\n",
        "        <h1>Hi, this is an example text with Html tags. </h1>\n",
        "    </div>\n",
        "</body> \"\"\"\n",
        "\n",
        "htmltags_result = remove_html_tags(ex_htmltags)\n",
        "print(f\"Result :- \\n {htmltags_result}\")\n"
      ],
      "metadata": {
        "colab": {
          "base_uri": "https://localhost:8080/"
        },
        "id": "4kBjUEUGtskf",
        "outputId": "7f3433b4-513e-404e-91fe-0c09b779b004"
      },
      "execution_count": 1,
      "outputs": [
        {
          "output_type": "stream",
          "name": "stdout",
          "text": [
            "Result :- \n",
            "   \n",
            " \n",
            " Hi, this is an example text with Html tags.  \n",
            " \n",
            "  \n"
          ]
        }
      ]
    },
    {
      "cell_type": "markdown",
      "source": [
        "# URL's Removal"
      ],
      "metadata": {
        "id": "NFgtALlmt7qk"
      }
    },
    {
      "cell_type": "code",
      "source": [
        "import re\n",
        "def remove_urls(text):\n",
        "    url_pattern = r'http[s]?://\\S+|www\\.\\S+'\n",
        "    without_urls = re.sub(pattern=url_pattern, repl=' ', string=text)\n",
        "    return without_urls\n",
        "\n",
        "# example text which contain URLs in it\n",
        "ex_urls = \"\"\"\n",
        "This is an example text for URLs like http://google.com & https://www.facebook.com/ etc.\n",
        "\"\"\"\n",
        "\n",
        "# calling removing_urls function with example text (ex_urls)\n",
        "urls_result = remove_urls(ex_urls)\n",
        "print(f\"Result after removing URLs from text :- \\n {urls_result}\")\n"
      ],
      "metadata": {
        "colab": {
          "base_uri": "https://localhost:8080/"
        },
        "id": "AjnnwP5lPJ3D",
        "outputId": "bdc08667-c76c-4b26-f5cb-88adf8cf039f"
      },
      "execution_count": null,
      "outputs": [
        {
          "output_type": "stream",
          "name": "stdout",
          "text": [
            "Result after removing URLs from text :- \n",
            " \n",
            "This is an example text for URLs like   &   etc.\n",
            "\n"
          ]
        }
      ]
    },
    {
      "cell_type": "markdown",
      "source": [
        "# Simplified URL's Removal"
      ],
      "metadata": {
        "id": "D4U80xrlwQyZ"
      }
    },
    {
      "cell_type": "code",
      "source": [
        "import re\n",
        "\n",
        "def remove_URL(text):\n",
        "    \"\"\"Remove URLs from a text string\"\"\"\n",
        "    return re.sub(r\"http\\S+\", \"\", text)\n",
        "\n",
        "ex_urls = \"\"\"\n",
        "This is an example text for URLs like http://google.com & https://www.facebook.com/ etc.\n",
        "\"\"\"\n",
        "\n",
        "urls_result = remove_URL(ex_urls)\n",
        "print(f\"Result after removing URLs from text :- \\n {urls_result}\")"
      ],
      "metadata": {
        "colab": {
          "base_uri": "https://localhost:8080/"
        },
        "id": "Vlcrwcowv2cZ",
        "outputId": "b2119f42-dfdc-4d24-c02a-124f121c0ea7"
      },
      "execution_count": 4,
      "outputs": [
        {
          "output_type": "stream",
          "name": "stdout",
          "text": [
            "Result after removing URLs from text :- \n",
            " \n",
            "This is an example text for URLs like  &  etc.\n",
            "\n"
          ]
        }
      ]
    },
    {
      "cell_type": "markdown",
      "source": [
        "# Remove Numbers from String"
      ],
      "metadata": {
        "id": "1nQW7jhGzP8N"
      }
    },
    {
      "cell_type": "code",
      "source": [
        "import string\n",
        "\n",
        "def remove_numbers(text):\n",
        "    return text.translate(str.maketrans(\"\", \"\", string.digits))\n",
        "\n",
        "text = \"This is a text with numbers 12345.\"\n",
        "result = remove_numbers(text)\n",
        "print(f\"Result after removing numbers: \\n{result}\")\n"
      ],
      "metadata": {
        "colab": {
          "base_uri": "https://localhost:8080/"
        },
        "id": "bGhg-c9SzTMV",
        "outputId": "13f6d894-02c8-4db2-9c77-fa3369246121"
      },
      "execution_count": 5,
      "outputs": [
        {
          "output_type": "stream",
          "name": "stdout",
          "text": [
            "Result after removing numbers: \n",
            "This is a text with numbers .\n"
          ]
        }
      ]
    },
    {
      "cell_type": "markdown",
      "source": [
        "# Converting numbers to words\n"
      ],
      "metadata": {
        "id": "X3tU9w_K0aTl"
      }
    },
    {
      "cell_type": "code",
      "source": [
        "from num2words import num2words\n",
        "\n",
        "# Most common usage\n",
        "print(num2words(36))\n",
        "\n",
        "# Other variants\n",
        "print(num2words(36, to = 'ordinal'))\n",
        "print(num2words(36, to = 'ordinal_num'))\n",
        "print(num2words(36, to = 'year'))\n",
        "print(num2words(36, to = 'currency'))\n"
      ],
      "metadata": {
        "colab": {
          "base_uri": "https://localhost:8080/"
        },
        "id": "ihcSsb_tz4_q",
        "outputId": "d8cf521b-13f6-49ae-f656-e05171ed9400"
      },
      "execution_count": 10,
      "outputs": [
        {
          "output_type": "stream",
          "name": "stdout",
          "text": [
            "thirty-six\n",
            "thirty-sixth\n",
            "36th\n",
            "thirty-six\n",
            "zero euro, thirty-six cents\n"
          ]
        }
      ]
    },
    {
      "cell_type": "markdown",
      "source": [
        "# Stemming"
      ],
      "metadata": {
        "id": "u8RBLm2j09wc"
      }
    },
    {
      "cell_type": "code",
      "source": [
        "import nltk\n",
        "from nltk.stem import PorterStemmer\n",
        "\n",
        "def stem_words(text):\n",
        "    stemmer = PorterStemmer()\n",
        "    stemmed_words = []\n",
        "    for word in text.split():\n",
        "        stemmed_words.append(stemmer.stem(word))\n",
        "    return ' '.join(stemmed_words)\n",
        "\n",
        "# Example usage\n",
        "text = \"I was running and swimming and jumping yesterday. I was very energetic.\"\n",
        "stemmed_text = stem_words(text)\n",
        "print(stemmed_text)\n"
      ],
      "metadata": {
        "colab": {
          "base_uri": "https://localhost:8080/"
        },
        "id": "8FI9EcJ71AC7",
        "outputId": "6ecfb44d-3b83-4351-8143-51530bb8bb13"
      },
      "execution_count": 12,
      "outputs": [
        {
          "output_type": "stream",
          "name": "stdout",
          "text": [
            "i wa run and swim and jump yesterday. i wa veri energetic.\n"
          ]
        }
      ]
    },
    {
      "cell_type": "markdown",
      "source": [
        "# Lemmatization"
      ],
      "metadata": {
        "id": "faTeFy-Z3-Zy"
      }
    },
    {
      "cell_type": "code",
      "source": [
        "import nltk"
      ],
      "metadata": {
        "id": "2IRSgZzx4BFm"
      },
      "execution_count": 23,
      "outputs": []
    },
    {
      "cell_type": "code",
      "source": [
        "nltk.download('punkt_tab')"
      ],
      "metadata": {
        "colab": {
          "base_uri": "https://localhost:8080/"
        },
        "id": "0jWxcq7Y7Ygs",
        "outputId": "3817c273-ba00-45d4-95ea-256f6285b619"
      },
      "execution_count": 24,
      "outputs": [
        {
          "output_type": "stream",
          "name": "stderr",
          "text": [
            "[nltk_data] Downloading package punkt_tab to /root/nltk_data...\n",
            "[nltk_data]   Unzipping tokenizers/punkt_tab.zip.\n"
          ]
        },
        {
          "output_type": "execute_result",
          "data": {
            "text/plain": [
              "True"
            ]
          },
          "metadata": {},
          "execution_count": 24
        }
      ]
    },
    {
      "cell_type": "code",
      "source": [
        "from nltk.stem import WordNetLemmatizer\n",
        "from nltk.tokenize import word_tokenize\n",
        "lemmatizer=WordNetLemmatizer()\n",
        "input_str=\"been had done languages cities mice\"\n",
        "input_str=word_tokenize(input_str)\n",
        "for word in input_str:\n",
        "    print(lemmatizer.lemmatize(word))\n"
      ],
      "metadata": {
        "colab": {
          "base_uri": "https://localhost:8080/"
        },
        "id": "OUeNmcSE7iAp",
        "outputId": "ff870d80-d54b-4d11-e13e-1779eaccf6a8"
      },
      "execution_count": 28,
      "outputs": [
        {
          "output_type": "stream",
          "name": "stdout",
          "text": [
            "been\n",
            "had\n",
            "done\n",
            "language\n",
            "city\n",
            "mouse\n"
          ]
        }
      ]
    },
    {
      "cell_type": "markdown",
      "source": [
        "#Removing of Punctuations or Special **Characters**\n"
      ],
      "metadata": {
        "id": "I-kjn760_A-K"
      }
    },
    {
      "cell_type": "code",
      "source": [
        "from string import punctuation\n",
        "\n",
        "def remove_punctuation(text):\n",
        "\treturn text.translate(str.maketrans('', '', punctuation))\n",
        "\n",
        "# example text for removing punctuations\n",
        "ex_punct = \"\"\"this is an example text for punctuations like .?/*\"\"\"\n",
        "punct_result = remove_punctuation(ex_punct)\n",
        "print(f\"Result after removing punctuations :- \\n{punct_result}\")\n"
      ],
      "metadata": {
        "colab": {
          "base_uri": "https://localhost:8080/"
        },
        "id": "d22JNlcQ_Cq_",
        "outputId": "508b5496-ce71-43bb-8d69-dfe021e055e8"
      },
      "execution_count": 29,
      "outputs": [
        {
          "output_type": "stream",
          "name": "stdout",
          "text": [
            "Result after removing punctuations :- \n",
            "this is an example text for punctuations like \n"
          ]
        }
      ]
    },
    {
      "cell_type": "markdown",
      "source": [
        "# Removing single characters"
      ],
      "metadata": {
        "id": "7ByRiOq8_W98"
      }
    },
    {
      "cell_type": "code",
      "source": [
        "def remove_single_char(text):\n",
        "    words = text.split()\n",
        "    filtered_words = [word for word in words if len(word) > 1]\n",
        "    return ' '.join(filtered_words)\n",
        "\n",
        "# Example text\n",
        "ex_sc = \"this is an example of single characters like a , b , and c .\"\n",
        "\n",
        "# Remove single characters\n",
        "result = remove_single_char(ex_sc)\n",
        "\n",
        "print(result)"
      ],
      "metadata": {
        "colab": {
          "base_uri": "https://localhost:8080/"
        },
        "id": "hHBHJa78_Tne",
        "outputId": "33c36f10-c8f2-478c-e6b5-86d97edec916"
      },
      "execution_count": 31,
      "outputs": [
        {
          "output_type": "stream",
          "name": "stdout",
          "text": [
            "this is an example of single characters like and\n"
          ]
        }
      ]
    }
  ]
}